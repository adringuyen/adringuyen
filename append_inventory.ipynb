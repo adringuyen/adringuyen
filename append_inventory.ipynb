{
 "cells": [
  {
   "cell_type": "markdown",
   "metadata": {},
   "source": [
    "Import libraries:"
   ]
  },
  {
   "cell_type": "code",
   "execution_count": null,
   "metadata": {},
   "outputs": [],
   "source": [
    "import pandas as pd\n",
    "import numpy as np\n",
    "import sqlalchemy as sa\n",
    "import datetime as dt\n",
    "import glob"
   ]
  },
  {
   "cell_type": "markdown",
   "metadata": {},
   "source": [
    "List of Excel files in current folder (that this py file is located in):"
   ]
  },
  {
   "cell_type": "code",
   "execution_count": null,
   "metadata": {},
   "outputs": [],
   "source": [
    "inventory_list = glob.glob('*.xls*')"
   ]
  },
  {
   "cell_type": "markdown",
   "metadata": {},
   "source": [
    "Define function to process the document. Adding a new column called report_generated that takes data from a time stamp in the first row.\n",
    "Also re-indexing data to remove top two rows, which only holds metadata."
   ]
  },
  {
   "cell_type": "code",
   "execution_count": null,
   "metadata": {},
   "outputs": [],
   "source": [
    "def process(file):\n",
    "    data = pd.read_excel(file)\n",
    "    date = dt.datetime.strptime(data.iloc[0,0].split(' ')[2], '%d/%b/%Y')\n",
    "    date = dt.datetime.strftime(date, '%m/%d/%Y')\n",
    "    data.columns = data.iloc[1]\n",
    "    data = data.iloc[2:,:]\n",
    "    data['report_generated'] = date\n",
    "    data.reset_index(inplace=True, drop=True)\n",
    "    return data"
   ]
  },
  {
   "cell_type": "markdown",
   "metadata": {},
   "source": [
    "Calls the previous function for all files and concatenates each time:"
   ]
  },
  {
   "cell_type": "code",
   "execution_count": null,
   "metadata": {},
   "outputs": [],
   "source": [
    "new_inv = pd.DataFrame() #create a new empty dataframe to include all inventories list in all files\n",
    "for file in inventory_list: #goes through list of file while concatenating all data together, files should have same columns\n",
    "    new_inv = pd.concat([new_inv, process(file)], ignore_index=True)\n"
   ]
  },
  {
   "cell_type": "markdown",
   "metadata": {},
   "source": [
    "Create connection to Access Database on local drive:"
   ]
  },
  {
   "cell_type": "code",
   "execution_count": null,
   "metadata": {},
   "outputs": [],
   "source": [
    "conn =(\n",
    "    r\"DRIVER={Microsoft Access Driver (*.mdb, *.accdb)};\"\n",
    "    r\"DBQ=C:/Users/username/Documents/file.accdb\"\n",
    "    r\"ExtendedAnsiSQL=1;\"\n",
    ")\n",
    "curl = sa.engine.URL.create(\n",
    "    \"access+pyodbc\",\n",
    "    query={\"odbc_connect\": conn}\n",
    ")\n",
    "engine = sa.create_engine(curl)"
   ]
  },
  {
   "cell_type": "markdown",
   "metadata": {},
   "source": [
    "Append new_inv dataframe to file.accdb database:"
   ]
  },
  {
   "cell_type": "code",
   "execution_count": null,
   "metadata": {},
   "outputs": [],
   "source": [
    "new_inv.to_sql('inventory', engine, index=False, if_exists=\"append\")"
   ]
  }
 ],
 "metadata": {
  "kernelspec": {
   "display_name": "base",
   "language": "python",
   "name": "python3"
  },
  "language_info": {
   "name": "python",
   "version": "3.10.9"
  }
 },
 "nbformat": 4,
 "nbformat_minor": 2
}
